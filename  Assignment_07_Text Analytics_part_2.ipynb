{
 "cells": [
  {
   "cell_type": "markdown",
   "id": "486dff30",
   "metadata": {},
   "source": [
    "# importing libraries"
   ]
  },
  {
   "cell_type": "code",
   "execution_count": 1,
   "id": "74cc6576",
   "metadata": {},
   "outputs": [],
   "source": [
    "import pandas as pd\n",
    "\n",
    "from sklearn.feature_extraction.text import CountVectorizer\n",
    "from sklearn.feature_extraction.text import TfidfTransformer\n",
    "from sklearn.feature_extraction.text import TfidfVectorizer"
   ]
  },
  {
   "cell_type": "code",
   "execution_count": 2,
   "id": "e6e61ef3",
   "metadata": {},
   "outputs": [],
   "source": [
    "docs = ['this is apple','ram is boy','she is dancing','ram is looking at apple','ram is not dancing'\n",
    "       ]"
   ]
  },
  {
   "cell_type": "markdown",
   "id": "d105adfd",
   "metadata": {},
   "source": [
    "# term frequency /bag of words"
   ]
  },
  {
   "cell_type": "code",
   "execution_count": 3,
   "id": "c5c9de19",
   "metadata": {},
   "outputs": [
    {
     "name": "stdout",
     "output_type": "stream",
     "text": [
      "   apple  at  boy  dancing  is  looking  not  ram  she  this\n",
      "0      1   0    0        0   1        0    0    0    0     1\n",
      "1      0   0    1        0   1        0    0    1    0     0\n",
      "2      0   0    0        1   1        0    0    0    1     0\n",
      "3      1   1    0        0   1        1    0    1    0     0\n",
      "4      0   0    0        1   1        0    1    1    0     0\n"
     ]
    },
    {
     "name": "stderr",
     "output_type": "stream",
     "text": [
      "C:\\Users\\DELL\\AppData\\Local\\Programs\\Python\\Python39\\lib\\site-packages\\sklearn\\utils\\deprecation.py:87: FutureWarning: Function get_feature_names is deprecated; get_feature_names is deprecated in 1.0 and will be removed in 1.2. Please use get_feature_names_out instead.\n",
      "  warnings.warn(msg, category=FutureWarning)\n"
     ]
    }
   ],
   "source": [
    "cv = CountVectorizer()\n",
    "word_count_vector = cv.fit_transform(docs)\n",
    "tf = pd.DataFrame(word_count_vector.toarray(), columns=cv.get_feature_names())\n",
    "print(tf)"
   ]
  },
  {
   "cell_type": "markdown",
   "id": "86a4714b",
   "metadata": {},
   "source": [
    "# tf-idf transformer"
   ]
  },
  {
   "cell_type": "code",
   "execution_count": 4,
   "id": "fbaf6446",
   "metadata": {},
   "outputs": [
    {
     "name": "stdout",
     "output_type": "stream",
     "text": [
      "  feature_name  idf_weights\n",
      "0        apple     1.693147\n",
      "1           at     2.098612\n",
      "2          boy     2.098612\n",
      "3      dancing     1.693147\n",
      "4           is     1.000000\n",
      "5      looking     2.098612\n",
      "6          not     2.098612\n",
      "7          ram     1.405465\n",
      "8          she     2.098612\n",
      "9         this     2.098612\n"
     ]
    },
    {
     "name": "stderr",
     "output_type": "stream",
     "text": [
      "C:\\Users\\DELL\\AppData\\Local\\Programs\\Python\\Python39\\lib\\site-packages\\sklearn\\utils\\deprecation.py:87: FutureWarning: Function get_feature_names is deprecated; get_feature_names is deprecated in 1.0 and will be removed in 1.2. Please use get_feature_names_out instead.\n",
      "  warnings.warn(msg, category=FutureWarning)\n"
     ]
    }
   ],
   "source": [
    "tfidf_transformer = TfidfTransformer()\n",
    "X = tfidf_transformer.fit_transform(word_count_vector)\n",
    "idf = pd.DataFrame({'feature_name':cv.get_feature_names(), 'idf_weights':tfidf_transformer.idf_})\n",
    "print(idf)"
   ]
  },
  {
   "cell_type": "markdown",
   "id": "43cd6189",
   "metadata": {},
   "source": [
    "# tf-idf matrix"
   ]
  },
  {
   "cell_type": "code",
   "execution_count": 5,
   "id": "a036aa86",
   "metadata": {},
   "outputs": [
    {
     "name": "stdout",
     "output_type": "stream",
     "text": [
      "      apple        at       boy   dancing        is   looking       not  \\\n",
      "0  0.588732  0.000000  0.000000  0.000000  0.347715  0.000000  0.000000   \n",
      "1  0.000000  0.000000  0.772536  0.000000  0.368117  0.000000  0.000000   \n",
      "2  0.000000  0.000000  0.000000  0.588732  0.347715  0.000000  0.000000   \n",
      "3  0.442354  0.548286  0.000000  0.000000  0.261261  0.548286  0.000000   \n",
      "4  0.000000  0.000000  0.000000  0.528947  0.312405  0.000000  0.655616   \n",
      "\n",
      "        ram       she      this  \n",
      "0  0.000000  0.000000  0.729718  \n",
      "1  0.517376  0.000000  0.000000  \n",
      "2  0.000000  0.729718  0.000000  \n",
      "3  0.367193  0.000000  0.000000  \n",
      "4  0.439074  0.000000  0.000000  \n"
     ]
    },
    {
     "name": "stderr",
     "output_type": "stream",
     "text": [
      "C:\\Users\\DELL\\AppData\\Local\\Programs\\Python\\Python39\\lib\\site-packages\\sklearn\\utils\\deprecation.py:87: FutureWarning: Function get_feature_names is deprecated; get_feature_names is deprecated in 1.0 and will be removed in 1.2. Please use get_feature_names_out instead.\n",
      "  warnings.warn(msg, category=FutureWarning)\n"
     ]
    }
   ],
   "source": [
    "tf_idf = pd.DataFrame(X.toarray() ,columns=cv.get_feature_names())\n",
    "print(tf_idf)"
   ]
  },
  {
   "cell_type": "markdown",
   "id": "c159c01e",
   "metadata": {},
   "source": [
    "# tf-idf matrix (direct function)"
   ]
  },
  {
   "cell_type": "code",
   "execution_count": 6,
   "id": "de5bcaa8",
   "metadata": {},
   "outputs": [
    {
     "name": "stderr",
     "output_type": "stream",
     "text": [
      "C:\\Users\\DELL\\AppData\\Local\\Programs\\Python\\Python39\\lib\\site-packages\\sklearn\\utils\\deprecation.py:87: FutureWarning: Function get_feature_names is deprecated; get_feature_names is deprecated in 1.0 and will be removed in 1.2. Please use get_feature_names_out instead.\n",
      "  warnings.warn(msg, category=FutureWarning)\n"
     ]
    },
    {
     "data": {
      "text/html": [
       "<div>\n",
       "<style scoped>\n",
       "    .dataframe tbody tr th:only-of-type {\n",
       "        vertical-align: middle;\n",
       "    }\n",
       "\n",
       "    .dataframe tbody tr th {\n",
       "        vertical-align: top;\n",
       "    }\n",
       "\n",
       "    .dataframe thead th {\n",
       "        text-align: right;\n",
       "    }\n",
       "</style>\n",
       "<table border=\"1\" class=\"dataframe\">\n",
       "  <thead>\n",
       "    <tr style=\"text-align: right;\">\n",
       "      <th></th>\n",
       "      <th>apple</th>\n",
       "      <th>at</th>\n",
       "      <th>boy</th>\n",
       "      <th>dancing</th>\n",
       "      <th>is</th>\n",
       "      <th>looking</th>\n",
       "      <th>not</th>\n",
       "      <th>ram</th>\n",
       "      <th>she</th>\n",
       "      <th>this</th>\n",
       "    </tr>\n",
       "  </thead>\n",
       "  <tbody>\n",
       "    <tr>\n",
       "      <th>0</th>\n",
       "      <td>0.588732</td>\n",
       "      <td>0.000000</td>\n",
       "      <td>0.000000</td>\n",
       "      <td>0.000000</td>\n",
       "      <td>0.347715</td>\n",
       "      <td>0.000000</td>\n",
       "      <td>0.000000</td>\n",
       "      <td>0.000000</td>\n",
       "      <td>0.000000</td>\n",
       "      <td>0.729718</td>\n",
       "    </tr>\n",
       "    <tr>\n",
       "      <th>1</th>\n",
       "      <td>0.000000</td>\n",
       "      <td>0.000000</td>\n",
       "      <td>0.772536</td>\n",
       "      <td>0.000000</td>\n",
       "      <td>0.368117</td>\n",
       "      <td>0.000000</td>\n",
       "      <td>0.000000</td>\n",
       "      <td>0.517376</td>\n",
       "      <td>0.000000</td>\n",
       "      <td>0.000000</td>\n",
       "    </tr>\n",
       "    <tr>\n",
       "      <th>2</th>\n",
       "      <td>0.000000</td>\n",
       "      <td>0.000000</td>\n",
       "      <td>0.000000</td>\n",
       "      <td>0.588732</td>\n",
       "      <td>0.347715</td>\n",
       "      <td>0.000000</td>\n",
       "      <td>0.000000</td>\n",
       "      <td>0.000000</td>\n",
       "      <td>0.729718</td>\n",
       "      <td>0.000000</td>\n",
       "    </tr>\n",
       "    <tr>\n",
       "      <th>3</th>\n",
       "      <td>0.442354</td>\n",
       "      <td>0.548286</td>\n",
       "      <td>0.000000</td>\n",
       "      <td>0.000000</td>\n",
       "      <td>0.261261</td>\n",
       "      <td>0.548286</td>\n",
       "      <td>0.000000</td>\n",
       "      <td>0.367193</td>\n",
       "      <td>0.000000</td>\n",
       "      <td>0.000000</td>\n",
       "    </tr>\n",
       "    <tr>\n",
       "      <th>4</th>\n",
       "      <td>0.000000</td>\n",
       "      <td>0.000000</td>\n",
       "      <td>0.000000</td>\n",
       "      <td>0.528947</td>\n",
       "      <td>0.312405</td>\n",
       "      <td>0.000000</td>\n",
       "      <td>0.655616</td>\n",
       "      <td>0.439074</td>\n",
       "      <td>0.000000</td>\n",
       "      <td>0.000000</td>\n",
       "    </tr>\n",
       "  </tbody>\n",
       "</table>\n",
       "</div>"
      ],
      "text/plain": [
       "      apple        at       boy   dancing        is   looking       not  \\\n",
       "0  0.588732  0.000000  0.000000  0.000000  0.347715  0.000000  0.000000   \n",
       "1  0.000000  0.000000  0.772536  0.000000  0.368117  0.000000  0.000000   \n",
       "2  0.000000  0.000000  0.000000  0.588732  0.347715  0.000000  0.000000   \n",
       "3  0.442354  0.548286  0.000000  0.000000  0.261261  0.548286  0.000000   \n",
       "4  0.000000  0.000000  0.000000  0.528947  0.312405  0.000000  0.655616   \n",
       "\n",
       "        ram       she      this  \n",
       "0  0.000000  0.000000  0.729718  \n",
       "1  0.517376  0.000000  0.000000  \n",
       "2  0.000000  0.729718  0.000000  \n",
       "3  0.367193  0.000000  0.000000  \n",
       "4  0.439074  0.000000  0.000000  "
      ]
     },
     "execution_count": 6,
     "metadata": {},
     "output_type": "execute_result"
    }
   ],
   "source": [
    "tfidf_vect = TfidfVectorizer()\n",
    "X = tfidf_vect.fit_transform(docs)\n",
    "X=X.todense()\n",
    "\n",
    "ans= pd.DataFrame(X, columns=tfidf_vect.get_feature_names())\n",
    "ans"
   ]
  },
  {
   "cell_type": "code",
   "execution_count": 7,
   "id": "69d9b2c9",
   "metadata": {},
   "outputs": [
    {
     "data": {
      "text/plain": [
       "matrix([[0.58873218, 0.        , 0.        , 0.        , 0.34771471,\n",
       "         0.        , 0.        , 0.        , 0.        , 0.72971837],\n",
       "        [0.        , 0.        , 0.77253573, 0.        , 0.36811741,\n",
       "         0.        , 0.        , 0.51737618, 0.        , 0.        ],\n",
       "        [0.        , 0.        , 0.        , 0.58873218, 0.34771471,\n",
       "         0.        , 0.        , 0.        , 0.72971837, 0.        ],\n",
       "        [0.44235361, 0.5482859 , 0.        , 0.        , 0.26126117,\n",
       "         0.5482859 , 0.        , 0.36719346, 0.        , 0.        ],\n",
       "        [0.        , 0.        , 0.        , 0.52894702, 0.31240463,\n",
       "         0.        , 0.65561619, 0.43907381, 0.        , 0.        ]])"
      ]
     },
     "execution_count": 7,
     "metadata": {},
     "output_type": "execute_result"
    }
   ],
   "source": [
    "X"
   ]
  },
  {
   "cell_type": "code",
   "execution_count": null,
   "id": "dd16dc17",
   "metadata": {},
   "outputs": [],
   "source": []
  },
  {
   "cell_type": "code",
   "execution_count": null,
   "id": "2dc21032",
   "metadata": {},
   "outputs": [],
   "source": []
  },
  {
   "cell_type": "code",
   "execution_count": null,
   "id": "e578ad21",
   "metadata": {},
   "outputs": [],
   "source": [
    "\n"
   ]
  },
  {
   "cell_type": "code",
   "execution_count": null,
   "id": "ec92a4d5",
   "metadata": {},
   "outputs": [],
   "source": []
  },
  {
   "cell_type": "code",
   "execution_count": null,
   "id": "e932cc39",
   "metadata": {},
   "outputs": [],
   "source": []
  },
  {
   "cell_type": "code",
   "execution_count": null,
   "id": "bd12a92b",
   "metadata": {},
   "outputs": [],
   "source": []
  },
  {
   "cell_type": "code",
   "execution_count": null,
   "id": "624038ac",
   "metadata": {},
   "outputs": [],
   "source": []
  },
  {
   "cell_type": "code",
   "execution_count": null,
   "id": "be7431de",
   "metadata": {},
   "outputs": [],
   "source": []
  },
  {
   "cell_type": "code",
   "execution_count": 8,
   "id": "1e1126f2",
   "metadata": {},
   "outputs": [
    {
     "ename": "NameError",
     "evalue": "name 'df' is not defined",
     "output_type": "error",
     "traceback": [
      "\u001b[1;31m---------------------------------------------------------------------------\u001b[0m",
      "\u001b[1;31mNameError\u001b[0m                                 Traceback (most recent call last)",
      "\u001b[1;32m~\\AppData\\Local\\Temp/ipykernel_17792/1396537375.py\u001b[0m in \u001b[0;36m<module>\u001b[1;34m\u001b[0m\n\u001b[1;32m----> 1\u001b[1;33m \u001b[0mdf\u001b[0m\u001b[1;33m\u001b[0m\u001b[1;33m\u001b[0m\u001b[0m\n\u001b[0m",
      "\u001b[1;31mNameError\u001b[0m: name 'df' is not defined"
     ]
    }
   ],
   "source": [
    "df"
   ]
  },
  {
   "cell_type": "code",
   "execution_count": null,
   "id": "1d1ff8d7",
   "metadata": {},
   "outputs": [],
   "source": []
  }
 ],
 "metadata": {
  "kernelspec": {
   "display_name": "Python 3 (ipykernel)",
   "language": "python",
   "name": "python3"
  },
  "language_info": {
   "codemirror_mode": {
    "name": "ipython",
    "version": 3
   },
   "file_extension": ".py",
   "mimetype": "text/x-python",
   "name": "python",
   "nbconvert_exporter": "python",
   "pygments_lexer": "ipython3",
   "version": "3.9.7"
  }
 },
 "nbformat": 4,
 "nbformat_minor": 5
}
